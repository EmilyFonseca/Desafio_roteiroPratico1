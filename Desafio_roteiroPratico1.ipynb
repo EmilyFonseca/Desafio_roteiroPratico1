{
  "nbformat": 4,
  "nbformat_minor": 0,
  "metadata": {
    "colab": {
      "provenance": [],
      "toc_visible": true,
      "authorship_tag": "ABX9TyM19vcD2ioouDFvN1/0B8wJ",
      "include_colab_link": true
    },
    "kernelspec": {
      "name": "python3",
      "display_name": "Python 3"
    },
    "language_info": {
      "name": "python"
    }
  },
  "cells": [
    {
      "cell_type": "markdown",
      "metadata": {
        "id": "view-in-github",
        "colab_type": "text"
      },
      "source": [
        "<a href=\"https://colab.research.google.com/github/EmilyFonseca/Desafio_roteiroPratico1/blob/main/Desafio_roteiroPratico1.ipynb\" target=\"_parent\"><img src=\"https://colab.research.google.com/assets/colab-badge.svg\" alt=\"Open In Colab\"/></a>"
      ]
    },
    {
      "cell_type": "markdown",
      "source": [
        "# Exercício 1"
      ],
      "metadata": {
        "id": "T82xyP7pBFhG"
      }
    },
    {
      "cell_type": "markdown",
      "source": [
        "1. Você possui algumas variáveis em Python que descrevem alguns dos seus atributos. Com base nessas variáveis, gere uma apresentação curta de si mesmo:"
      ],
      "metadata": {
        "id": "PEAw6iZJA0Ak"
      }
    },
    {
      "cell_type": "code",
      "execution_count": 1,
      "metadata": {
        "colab": {
          "base_uri": "https://localhost:8080/"
        },
        "id": "Z4wMHWpUAgU0",
        "outputId": "025b6276-b4ea-482f-c119-4b1f74e99b97"
      },
      "outputs": [
        {
          "output_type": "stream",
          "name": "stdout",
          "text": [
            "Olá! Meu nome é Emily, tenho 20 anos e sou de São Bernardo do Campo. Prazer em conhecê-lo!\n"
          ]
        }
      ],
      "source": [
        "nome = \"Emily\"\n",
        "idade = 20\n",
        "cidade = \"São Bernardo do Campo\"\n",
        "print(f\"Olá! Meu nome é {nome}, tenho {idade} anos e sou de {cidade}. Prazer em conhecê-lo!\")"
      ]
    },
    {
      "cell_type": "markdown",
      "source": [
        "#Exercício 2"
      ],
      "metadata": {
        "id": "07-jzO9PBIgo"
      }
    },
    {
      "cell_type": "markdown",
      "source": [
        "2. Dada uma lista de números em Python, Calcule a média dos valores dessa lista:"
      ],
      "metadata": {
        "id": "is8TUF8_A64v"
      }
    },
    {
      "cell_type": "code",
      "source": [
        "numeros = [10, 20, 30, 40, 50]\n",
        "media = sum(numeros) / len(numeros)\n",
        "print(f'A média dos valores é: {media}')"
      ],
      "metadata": {
        "colab": {
          "base_uri": "https://localhost:8080/"
        },
        "id": "snQVefyuArLw",
        "outputId": "c3282b59-49ae-4fd5-e60e-11a74c58981f"
      },
      "execution_count": 2,
      "outputs": [
        {
          "output_type": "stream",
          "name": "stdout",
          "text": [
            "A média dos valores é: 30.0\n"
          ]
        }
      ]
    },
    {
      "cell_type": "markdown",
      "source": [
        "# Exercício 3"
      ],
      "metadata": {
        "id": "K87gOt6QBMCS"
      }
    },
    {
      "cell_type": "markdown",
      "source": [
        "3. Você possui duas listas de Python. Cada lista representa os gastos do mês de dois amigos, João e Pedro. Cada valor na lista representa o gasto em uma das semanas do mês. Seu objetivo é encontrar quem gastou mais dinheiro ao longo do mês, João ou Pedro. Para isso, crie um código em Python que responda a essa pergunta."
      ],
      "metadata": {
        "id": "7oHVOrPjA91Z"
      }
    },
    {
      "cell_type": "code",
      "source": [
        "gastojoao = [300, 500, 200, 800]\n",
        "gastospedro = [200, 400, 500, 700]\n",
        "\n",
        "\n",
        "somajoao = sum(gastojoao)\n",
        "somapedro = sum(gastospedro)\n",
        "\n",
        "\n",
        "if somajoao > somapedro:\n",
        "    print(\"João gastou mais dinheiro ao longo do mês.\")\n",
        "elif somajoao < somapedro:\n",
        "    print(\"Pedro gastou mais dinheiro ao longo do mês.\")\n",
        "else: print(\"João e Pedro tiveram o mesmo gasto esse mês\")"
      ],
      "metadata": {
        "colab": {
          "base_uri": "https://localhost:8080/"
        },
        "id": "ZvPg83S8Axxq",
        "outputId": "4be842b2-2bfe-46a3-a103-60eeaafa3167"
      },
      "execution_count": 3,
      "outputs": [
        {
          "output_type": "stream",
          "name": "stdout",
          "text": [
            "João e Pedro tiveram o mesmo gasto esse mês\n"
          ]
        }
      ]
    }
  ]
}